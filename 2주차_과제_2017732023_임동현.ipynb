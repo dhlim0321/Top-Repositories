{
  "nbformat": 4,
  "nbformat_minor": 0,
  "metadata": {
    "colab": {
      "provenance": []
    },
    "kernelspec": {
      "name": "python3",
      "display_name": "Python 3"
    },
    "language_info": {
      "name": "python"
    }
  },
  "cells": [
    {
      "cell_type": "markdown",
      "source": [
        "## **2주차 강의를 요약해 .md 파일 만들기**  \n",
        "---\n",
        "###### 제어공학1"
      ],
      "metadata": {
        "id": "Xlz_9ZoeYH3B"
      }
    },
    {
      "cell_type": "markdown",
      "source": [
        "### Google Colab  \n",
        "> <https://colab.research.google.com>  \n"
      ],
      "metadata": {
        "id": "tdDLtvQMYp3G"
      }
    },
    {
      "cell_type": "code",
      "source": [
        "print('Hello World!')"
      ],
      "metadata": {
        "colab": {
          "base_uri": "https://localhost:8080/"
        },
        "id": "TVsedKvbaCnv",
        "outputId": "b6862394-30ad-45e4-d482-a3e72703aa3e"
      },
      "execution_count": null,
      "outputs": [
        {
          "output_type": "stream",
          "name": "stdout",
          "text": [
            "Hello World!\n"
          ]
        }
      ]
    },
    {
      "cell_type": "markdown",
      "source": [
        "# **기본 문법**"
      ],
      "metadata": {
        "id": "WX0J4ZEpaOIo"
      }
    },
    {
      "cell_type": "markdown",
      "source": [
        "# **타이틀**\n",
        "```\n",
        "# H1\n",
        "## H2\n",
        "### H3\n",
        "#### H4\n",
        "##### H5\n",
        "###### H6\n",
        "```\n",
        "\n",
        ">출력결과\n",
        "\n",
        "# H1\n",
        "## H2\n",
        "### H3\n",
        "#### H4\n",
        "##### H5\n",
        "###### H6  \n",
        "\n"
      ],
      "metadata": {
        "id": "IXMdm7CMcYLk"
      }
    },
    {
      "cell_type": "markdown",
      "source": [
        "# **강조**\n",
        "```\n",
        "**진하게**\n",
        "<u>밑줄</u>\n",
        "~~취소~~\n",
        "_이탤릭_\n",
        "```\n",
        "\n",
        ">출력결과\n",
        "\n",
        "**진하게**  \n",
        "<u>밑줄</u>  \n",
        "~~취소~~  \n",
        "_이탤릭_  "
      ],
      "metadata": {
        "id": "htxbrJHUcjAy"
      }
    },
    {
      "cell_type": "markdown",
      "source": [
        "# **문장 줄바꿈**\n",
        "```\n",
        "문장\n",
        "줄바꿈\n",
        "안함\n",
        "\n",
        "문장  (space 2개)\n",
        "줄바꿈  (space 2개)\n",
        "함  \n",
        "```\n",
        "> 출력결과\n",
        "\n",
        "문장\n",
        "줄바꿈\n",
        "안함\n",
        "\n",
        "문장  \n",
        "줄바꿈  \n",
        "함  \n"
      ],
      "metadata": {
        "id": "z78s55xecoJM"
      }
    },
    {
      "cell_type": "markdown",
      "source": [
        "# **블럭(인용) 들여쓰기**\n",
        "```\n",
        "> 블럭 1단계\n",
        ">> 블럭 2단계\n",
        "```\n",
        "> 출력결과\n",
        "\n",
        "> 블럭 1단계\n",
        ">> 블럭 2단계\n",
        "\n"
      ],
      "metadata": {
        "id": "IKUo5v1gcsAC"
      }
    },
    {
      "cell_type": "markdown",
      "source": [
        "#**Code Block**\n",
        "~~~\n",
        "```python\n",
        "import something\n",
        "a = 10\n",
        "print(a)\n",
        "if a>10:\n",
        "  print(a)\n",
        "```   \n",
        "~~~\n",
        "\n",
        "> 출력결과\n",
        "\n",
        "```python\n",
        "import something\n",
        "a = 10\n",
        "print(a)\n",
        "if a>10:\n",
        "  print(a)\n",
        "```"
      ],
      "metadata": {
        "id": "76XbxDhxczWS"
      }
    },
    {
      "cell_type": "markdown",
      "source": [
        "# **목록**\n",
        "```\n",
        "* 사과\n",
        "* 오렌지\n",
        "  + 딸기 (tab)\n",
        "  + 파인애플 (tab)\n",
        "- 포도\n",
        "- 바나나\n",
        "1. 참외\n",
        "2. 수박\n",
        "```\n",
        "> 출력결과\n",
        "\n",
        "* 사과\n",
        "* 오렌지\n",
        "  + 딸기 (tab)\n",
        "  + 파인애플 (tab)\n",
        "- 포도\n",
        "- 바나나\n",
        "1. 참외\n",
        "2. 수박"
      ],
      "metadata": {
        "id": "AJlka_EnEoQd"
      }
    },
    {
      "cell_type": "markdown",
      "source": [
        "#**하이퍼링크**\n",
        "```\n",
        "[바로가기](http://google.com)\n",
        "<http://google.com>\n",
        "```\n",
        "> 출력결과\n",
        "\n",
        "[바로가기](http://google.com)  \n",
        "<http://google.com>"
      ],
      "metadata": {
        "id": "ACbvfVbQFG5x"
      }
    },
    {
      "cell_type": "markdown",
      "source": [
        "#**수평선**\n",
        "```\n",
        "***\n",
        "수평선\n",
        "\n",
        "----\n",
        "(3개이상)\n",
        "```\n",
        "> 출력결과\n",
        "***\n",
        "수평선\n",
        "\n",
        "----"
      ],
      "metadata": {
        "id": "rKydDAHSFKXn"
      }
    },
    {
      "cell_type": "markdown",
      "source": [
        "#**표**\n",
        "```\n",
        "| 1열 | 2열 | 3열 |\n",
        "| :------- | ----: | :---: |\n",
        "| 왼쪽 | 오른쪽 | 가운데 |\n",
        "| 정렬하기 | 정렬하기 | 정렬하기 |\n",
        "| 테스트 | 테스트 | 테스트 |\n",
        "```\n",
        "> 출력결과\n",
        "\n",
        "| 1열 | 2열 | 3열 |\n",
        "| :------- | ----: | :---: |\n",
        "| 왼쪽 | 오른쪽 | 가운데 |\n",
        "| 정렬하기 | 정렬하기 | 정렬하기 |\n",
        "| 테스트 | 테스트 | 테스트 |"
      ],
      "metadata": {
        "id": "UaZ5j1-gFNxa"
      }
    },
    {
      "cell_type": "markdown",
      "source": [
        "#**그림**\n",
        "```\n",
        "![이미지설명문구](https://interactive-examples.mdn.mozilla.net/media/cc0-images/grapefruit-slice-332-332.jpg)\n",
        "```\n",
        "> 출력결과\n",
        "\n",
        "![이미지설명문구](https://interactive-examples.mdn.mozilla.net/media/cc0-images/grapefruit-slice-332-332.jpg)\n"
      ],
      "metadata": {
        "id": "jiVGU_8yFVjw"
      }
    },
    {
      "cell_type": "markdown",
      "source": [
        "#**체크박스**\n",
        "(todo list 같은 것에 좋다)\n",
        "```\n",
        "* [ ] 비어있는 체크박스\n",
        "* [x] 체크된 체크박스\n",
        "```\n",
        "> 출력결과\n",
        "\n",
        "* [ ] 비어있는 체크박스  \n",
        "* [x] 체크된 체크박스"
      ],
      "metadata": {
        "id": "yM3s2t7RFYVf"
      }
    },
    {
      "cell_type": "markdown",
      "source": [
        "#**수식**\n",
        "\n",
        "```\n",
        "$$\n",
        "\\begin{aligned}\n",
        "f(x)&=ax^2+bx+c\\\\\n",
        "g(x)&=Ax^4\n",
        "\\end{aligned}\n",
        "$$\n",
        "```\n",
        "> 출력결과\n",
        "$$\n",
        "\\begin{aligned}\n",
        "f(x)&=ax^2+bx+c\\\\\n",
        "g(x)&=Ax^4\n",
        "\\end{aligned}\n",
        "$$\n",
        "\n",
        "```\n",
        "문장내 $\\frac{1+s}{s(s+2)}$ 삽입\n",
        "$$\\frac{1+s}{s(s+2)}$$\n",
        "```\n",
        "> 출력결과\n",
        "\n",
        "문장내 $\\frac{1+s}{s(s+2)}$ 삽입\n",
        "$$\\frac{1+s}{s(s+2)}$$\n",
        "\n",
        "```\n",
        "$\\displaystyle\\lim_{s\\rarr\\infin}{s^2}$\n",
        "$\\displaystyle\\sum_{i=0}^{\\infin}{(y_i-t_i)^2}$\n",
        "```\n",
        "> 출력결과\n",
        "\n",
        "$\\displaystyle\\lim_{s\\rightarrow\\infty}{s^2}$\n",
        "$\\displaystyle\\sum_{i=0}^{\\infty}{(y_i-t_i)^2}$\n",
        "\n",
        "```\n",
        "$\\begin{matrix}1&2\\\\3&4\\\\ \\end{matrix}$\n",
        "$\\begin{pmatrix}1&2\\\\3&4\\\\ \\end{pmatrix}$\n",
        "$\\begin{bmatrix}1&2\\\\3&4\\\\ \\end{bmatrix}$\n",
        "$\\begin{Bmatrix}1&2\\\\3&4\\\\ \\end{Bmatrix}$\n",
        "$\\begin{vmatrix}1&2\\\\3&4\\\\ \\end{vmatrix}$\n",
        "$\\begin{Vmatrix}1&2\\\\3&4\\\\ \\end{Vmatrix}$\n",
        "```\n",
        "(`&`로 열을 구분, `\\\\`로 행을 구분)\n",
        "> 출력결과\n",
        "\n",
        "$\\begin{matrix}1&2\\\\3&4\\\\ \\end{matrix}$\n",
        "$\\begin{pmatrix}1&2\\\\3&4\\\\ \\end{pmatrix}$\n",
        "$\\begin{bmatrix}1&2\\\\3&4\\\\ \\end{bmatrix}$\n",
        "$\\begin{Bmatrix}1&2\\\\3&4\\\\ \\end{Bmatrix}$\n",
        "$\\begin{vmatrix}1&2\\\\3&4\\\\ \\end{vmatrix}$\n",
        "$\\begin{Vmatrix}1&2\\\\3&4\\\\ \\end{Vmatrix}$"
      ],
      "metadata": {
        "id": "puPgivVMFi5Z"
      }
    },
    {
      "cell_type": "markdown",
      "source": [
        "# **프로그래밍의 주된 목적**  \n",
        "```\n",
        "내가 하기 싫은 일을 남이 (기계가, 컴퓨터가) 대신하게 한다 -> 자동화  \n",
        "\n",
        "프로그래밍을 잘 한다는 것 -> 기계가 잘 알아듣게 이야기 한다 -> 프로그래밍 언어  \n",
        "\n",
        "언어는 도구일 뿐 시키는 일과 관련한 '전문성'이 더 중요\n",
        "\n",
        "```"
      ],
      "metadata": {
        "id": "o99bmQPZHOmo"
      }
    }
  ]
}